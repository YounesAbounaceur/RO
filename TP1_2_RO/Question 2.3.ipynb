{
 "cells": [
  {
   "cell_type": "code",
   "execution_count": 11,
   "metadata": {},
   "outputs": [],
   "source": [
    "using Cbc\n",
    "using JuMP\n"
   ]
  },
  {
   "cell_type": "code",
   "execution_count": 12,
   "metadata": {},
   "outputs": [
    {
     "data": {
      "text/plain": [
       "10000"
      ]
     },
     "execution_count": 12,
     "metadata": {},
     "output_type": "execute_result"
    }
   ],
   "source": [
    "D = [2 0;1 3] #produit par demande\n",
    "C = [1 1;2 3;3 2] #prix produit par magazin\n",
    "B = [2.5 1;1 2;2 1] #disponibilité produit par magazin en stock\n",
    "N = 2 #nombre de genres de produits\n",
    "M = 3 #nombre de magazins\n",
    "F = 2 #nombre de demandes\n",
    "Z = [1 0 0;0 2 1] # cout de livraison du colis \n",
    "A = 10000 #on choisit une constante qui est certainement >=Max(x+y)\n"
   ]
  },
  {
   "cell_type": "code",
   "execution_count": 13,
   "metadata": {},
   "outputs": [
    {
     "data": {
      "text/latex": [
       "$$ y_{1,1} + 2 y_{2,2} + y_{2,3} + x_{1,1,1} + x_{1,1,2} + 2 x_{1,2,1} + 2 x_{1,2,2} + 3 x_{1,3,1} + 3 x_{1,3,2} + x_{2,1,1} + x_{2,1,2} + 3 x_{2,2,1} + 3 x_{2,2,2} + 2 x_{2,3,1} + 2 x_{2,3,2} $$"
      ],
      "text/plain": [
       "y[1,1] + 2 y[2,2] + y[2,3] + x[1,1,1] + x[1,1,2] + 2 x[1,2,1] + 2 x[1,2,2] + 3 x[1,3,1] + 3 x[1,3,2] + x[2,1,1] + x[2,1,2] + 3 x[2,2,1] + 3 x[2,2,2] + 2 x[2,3,1] + 2 x[2,3,2]"
      ]
     },
     "execution_count": 13,
     "metadata": {},
     "output_type": "execute_result"
    }
   ],
   "source": [
    "# set optimizer\n",
    "m = Model(Cbc.Optimizer)\n",
    "\n",
    "# define variables\n",
    "@variable(m, x[1:N, 1:M, 1:F] >= 0,Int)\n",
    "@variable(m, y[1:F,1:M],Bin)\n",
    "\n",
    "#difinir la fonction objective\n",
    "@objective(m, Min, sum(y[k,j]Z[k,j] for k = 1:F,j = 1:M) + sum(sum(x[i,j,k])*C[j,i] for i in 1:N, j=1:M, k =1:F))\n",
    "\n"
   ]
  },
  {
   "cell_type": "code",
   "execution_count": 18,
   "metadata": {},
   "outputs": [],
   "source": [
    "#definir les contraintes\n",
    "#disponibilité des produits en stocks\n",
    "for i = 1:N,j = 1:M\n",
    "       @constraint(m,sum(x[i,j,:])<=B[j,i]) \n",
    "end\n",
    "\n",
    "#Contrainte concernant les demandes\n",
    "for i in 1:N, k = 1:F\n",
    "    @constraint(m,sum(x[i,j,k] for j in 1:M) == D[k,i])\n",
    "end\n",
    "\n",
    "#Contrainte de la méthode Big_M, rappel A est notre constante M dans ce code\n",
    "for k = 1:F,j = 1:M\n",
    "    @constraint(m,sum(x[i,j,k] for i in 1:N) - A*y[k,j] <= 0)#contrainte big M\n",
    "end\n",
    "\n",
    "\n"
   ]
  },
  {
   "cell_type": "code",
   "execution_count": 19,
   "metadata": {},
   "outputs": [
    {
     "name": "stdout",
     "output_type": "stream",
     "text": [
      "Welcome to the CBC MILP Solver \n",
      "Version: 2.10.3 \n",
      "Build Date: Jan  1 1970 \n",
      "\n",
      "command line - Cbc_C_Interface -solve -quit (default strategy 1)\n",
      "Continuous objective value is 9.50045 - 0.01 seconds\n",
      "Cgl0003I 0 fixed, 0 tightened bounds, 1 strengthened rows, 0 substitutions\n",
      "Cgl0003I 0 fixed, 0 tightened bounds, 1 strengthened rows, 0 substitutions\n",
      "Cgl0004I processed model has 8 rows, 11 columns (11 integer (8 of which binary)) and 22 elements\n",
      "Cbc0012I Integer solution of 14 found by DiveCoefficient after 0 iterations and 0 nodes (0.01 seconds)\n",
      "Cbc0001I Search completed - best objective 14, took 0 iterations and 0 nodes (0.02 seconds)\n",
      "Cbc0035I Maximum depth 0, 3 variables fixed on reduced cost\n",
      "Cuts at root node changed objective from 13 to 14\n",
      "Probing was tried 0 times and created 0 cuts of which 0 were active after adding rounds of cuts (0.000 seconds)\n",
      "Gomory was tried 0 times and created 0 cuts of which 0 were active after adding rounds of cuts (0.000 seconds)\n",
      "Knapsack was tried 0 times and created 0 cuts of which 0 were active after adding rounds of cuts (0.000 seconds)\n",
      "Clique was tried 0 times and created 0 cuts of which 0 were active after adding rounds of cuts (0.000 seconds)\n",
      "MixedIntegerRounding2 was tried 0 times and created 0 cuts of which 0 were active after adding rounds of cuts (0.000 seconds)\n",
      "FlowCover was tried 0 times and created 0 cuts of which 0 were active after adding rounds of cuts (0.000 seconds)\n",
      "TwoMirCuts was tried 0 times and created 0 cuts of which 0 were active after adding rounds of cuts (0.000 seconds)\n",
      "ZeroHalf was tried 0 times and created 0 cuts of which 0 were active after adding rounds of cuts (0.000 seconds)\n",
      "\n",
      "Result - Optimal solution found\n",
      "\n",
      "Objective value:                14.00000000\n",
      "Enumerated nodes:               0\n",
      "Total iterations:               0\n",
      "Time (CPU seconds):             0.02\n",
      "Time (Wallclock seconds):       0.02\n",
      "\n",
      "Total time (CPU seconds):       0.02   (Wallclock seconds):       0.02\n",
      "\n"
     ]
    }
   ],
   "source": [
    "# run optimization\n",
    "optimize!(m)"
   ]
  },
  {
   "cell_type": "code",
   "execution_count": 20,
   "metadata": {},
   "outputs": [
    {
     "name": "stdout",
     "output_type": "stream",
     "text": [
      "dépense minimale pour le gestionnaire des magazins = 14.0 \n",
      "\t quantite de fluide 1 par magazin 1 par client 1 = 2.0\n",
      "\t quantite de fluide 1 par magazin 1 par client 2 = 0.0\n",
      "\t quantite de fluide 1 par magazin 2 par client 1 = 0.0\n",
      "\t quantite de fluide 1 par magazin 2 par client 2 = 1.0\n",
      "\t quantite de fluide 1 par magazin 3 par client 1 = 0.0\n",
      "\t quantite de fluide 1 par magazin 3 par client 2 = 0.0\n",
      "\t quantite de fluide 2 par magazin 1 par client 1 = 0.0\n",
      "\t quantite de fluide 2 par magazin 1 par client 2 = 1.0\n",
      "\t quantite de fluide 2 par magazin 2 par client 1 = 0.0\n",
      "\t quantite de fluide 2 par magazin 2 par client 2 = 1.0\n",
      "\t quantite de fluide 2 par magazin 3 par client 1 = 0.0\n",
      "\t quantite de fluide 2 par magazin 3 par client 2 = 1.0\n"
     ]
    }
   ],
   "source": [
    "#Affichage\n",
    "\n",
    "println(\"dépense minimale pour le gestionnaire des magazins = $(objective_value(m)) \")\n",
    "\n",
    "for i in 1:N, j=1:M, k=1:F\n",
    "    println(\"\\t quantite de fluide $i par magazin $j par client $k = \",getvalue(x[i,j,k]))\n",
    "      \n",
    "end"
   ]
  },
  {
   "cell_type": "code",
   "execution_count": null,
   "metadata": {},
   "outputs": [],
   "source": []
  }
 ],
 "metadata": {
  "kernelspec": {
   "display_name": "Julia 1.5.2",
   "language": "julia",
   "name": "julia-1.5"
  },
  "language_info": {
   "file_extension": ".jl",
   "mimetype": "application/julia",
   "name": "julia",
   "version": "1.5.2"
  }
 },
 "nbformat": 4,
 "nbformat_minor": 4
}
