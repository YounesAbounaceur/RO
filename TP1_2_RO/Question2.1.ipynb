{
 "cells": [
  {
   "cell_type": "code",
   "execution_count": 1,
   "metadata": {},
   "outputs": [],
   "source": [
    "using Cbc\n",
    "using JuMP\n"
   ]
  },
  {
   "cell_type": "code",
   "execution_count": 2,
   "metadata": {},
   "outputs": [
    {
     "data": {
      "text/plain": [
       "3"
      ]
     },
     "execution_count": 2,
     "metadata": {},
     "output_type": "execute_result"
    }
   ],
   "source": [
    "D = [2 0;1 3] #produit par demande\n",
    "C = [1 1;2 3;3 2] #prix fluide par magazin\n",
    "P = [2.5 1;1 2;2 1] #disponibilité fluide par magazin en stock\n",
    "N = 2 #nombre de genres de fluides\n",
    "M = 3 #nombre de magazins"
   ]
  },
  {
   "cell_type": "code",
   "execution_count": 21,
   "metadata": {},
   "outputs": [
    {
     "name": "stdout",
     "output_type": "stream",
     "text": [
      "Welcome to the CBC MILP Solver \n",
      "Version: 2.10.3 \n",
      "Build Date: Jan  1 1970 \n",
      "\n",
      "command line - Cbc_C_Interface -solve -quit (default strategy 1)\n",
      "Presolve 2 (-6) rows, 6 (0) columns and 6 (-6) elements\n",
      "0  Obj 2.6999999 Primal inf 5.099998 (2)\n",
      "2  Obj 9.5\n",
      "Optimal - objective value 9.5\n",
      "After Postsolve, objective 9.5, infeasibilities - dual 0 (0), primal 0 (0)\n",
      "Optimal objective 9.5 - 2 iterations time 0.002, Presolve 0.00\n",
      "Total time (CPU seconds):       0.00   (Wallclock seconds):       0.00\n",
      "\n"
     ]
    }
   ],
   "source": [
    "# set optimizer\n",
    "m = Model(Cbc.Optimizer)\n",
    "\n",
    "# define variables\n",
    "@variable(m, x[1:N, 1:M] >= 0)\n",
    "\n",
    "# define objective function\n",
    "@objective(m, Min, sum(x[i,j]*C[j,i] for i in 1:N, j=1:M))\n",
    "\n",
    "#define constraints\n",
    "#les quantités en stock doivent être supérieurs au quantités livrés\n",
    "for i=1:N, j=1:M\n",
    "     @constraint(m, x[i,j]<=P[j,i])\n",
    "end\n",
    "\n",
    "#la somme des quantités d'un produit par les 3 magazins doit être égale à cellle mentionée dans la demande\n",
    "for i in 1:N\n",
    "    @constraint(m,sum(x[i,j] for j in 1:M) == sum(D[:,i]))\n",
    "end\n",
    "#run optimization\n",
    "optimize!(m)\n"
   ]
  },
  {
   "cell_type": "code",
   "execution_count": 22,
   "metadata": {},
   "outputs": [
    {
     "name": "stdout",
     "output_type": "stream",
     "text": [
      "dépense minimale pour le gestionnaire des magazins = 9.5 \n",
      "\t quantite de fluide 1 par magazin 1 = 2.5\n",
      "\t quantite de fluide 1 par magazin 2 = 0.5\n",
      "\t quantite de fluide 1 par magazin 3 = 0.0\n",
      "\t quantite de fluide 2 par magazin 1 = 1.0\n",
      "\t quantite de fluide 2 par magazin 2 = 1.0\n",
      "\t quantite de fluide 2 par magazin 3 = 1.0\n"
     ]
    }
   ],
   "source": [
    "#Affichage\n",
    "\n",
    "println(\"dépense minimale pour le gestionnaire des magazins = $(objective_value(m)) \")\n",
    "\n",
    "for i in 1:N, j=1:M\n",
    "    println(\"\\t quantite de fluide $i par magazin $j = \",getvalue(x[i,j]))\n",
    "      \n",
    "end"
   ]
  }
 ],
 "metadata": {
  "kernelspec": {
   "display_name": "Julia 1.5.2",
   "language": "julia",
   "name": "julia-1.5"
  },
  "language_info": {
   "file_extension": ".jl",
   "mimetype": "application/julia",
   "name": "julia",
   "version": "1.5.2"
  }
 },
 "nbformat": 4,
 "nbformat_minor": 4
}
