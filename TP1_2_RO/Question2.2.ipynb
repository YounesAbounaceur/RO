{
 "cells": [
  {
   "cell_type": "code",
   "execution_count": 1,
   "metadata": {},
   "outputs": [],
   "source": [
    "using Cbc\n",
    "using JuMP\n"
   ]
  },
  {
   "cell_type": "code",
   "execution_count": 2,
   "metadata": {},
   "outputs": [
    {
     "data": {
      "text/plain": [
       "2"
      ]
     },
     "execution_count": 2,
     "metadata": {},
     "output_type": "execute_result"
    }
   ],
   "source": [
    "D = [2 0;1 3] #pro par demande\n",
    "C = [1 1;2 3;3 2] #prix produit par magazin\n",
    "B = [2.5 1;1 2;2 1] #disponibilité produit par magazin en stock\n",
    "N = 2 #nombre de genres de produits\n",
    "M = 3 #nombre de magazins\n",
    "F = 2 #nombre de demandes"
   ]
  },
  {
   "cell_type": "code",
   "execution_count": 13,
   "metadata": {},
   "outputs": [
    {
     "name": "stdout",
     "output_type": "stream",
     "text": [
      "Welcome to the CBC MILP Solver \n",
      "Version: 2.10.3 \n",
      "Build Date: Jan  1 1970 \n",
      "\n",
      "command line - Cbc_C_Interface -solve -quit (default strategy 1)\n",
      "Continuous objective value is 9.5 - 0.01 seconds\n",
      "Cgl0003I 0 fixed, 0 tightened bounds, 1 strengthened rows, 0 substitutions\n",
      "Cgl0003I 0 fixed, 0 tightened bounds, 1 strengthened rows, 0 substitutions\n",
      "Cgl0004I processed model has 6 rows, 9 columns (9 integer (6 of which binary)) and 17 elements\n",
      "Cbc0012I Integer solution of 10 found by DiveCoefficient after 0 iterations and 0 nodes (0.01 seconds)\n",
      "Cbc0001I Search completed - best objective 10, took 0 iterations and 0 nodes (0.01 seconds)\n",
      "Cbc0035I Maximum depth 0, 0 variables fixed on reduced cost\n",
      "Cuts at root node changed objective from 10 to 10\n",
      "Probing was tried 0 times and created 0 cuts of which 0 were active after adding rounds of cuts (0.000 seconds)\n",
      "Gomory was tried 0 times and created 0 cuts of which 0 were active after adding rounds of cuts (0.000 seconds)\n",
      "Knapsack was tried 0 times and created 0 cuts of which 0 were active after adding rounds of cuts (0.000 seconds)\n",
      "Clique was tried 0 times and created 0 cuts of which 0 were active after adding rounds of cuts (0.000 seconds)\n",
      "MixedIntegerRounding2 was tried 0 times and created 0 cuts of which 0 were active after adding rounds of cuts (0.000 seconds)\n",
      "FlowCover was tried 0 times and created 0 cuts of which 0 were active after adding rounds of cuts (0.000 seconds)\n",
      "TwoMirCuts was tried 0 times and created 0 cuts of which 0 were active after adding rounds of cuts (0.000 seconds)\n",
      "ZeroHalf was tried 0 times and created 0 cuts of which 0 were active after adding rounds of cuts (0.000 seconds)\n",
      "\n",
      "Result - Optimal solution found\n",
      "\n",
      "Objective value:                10.00000000\n",
      "Enumerated nodes:               0\n",
      "Total iterations:               0\n",
      "Time (CPU seconds):             0.01\n",
      "Time (Wallclock seconds):       0.01\n",
      "\n",
      "Total time (CPU seconds):       0.02   (Wallclock seconds):       0.02\n",
      "\n"
     ]
    }
   ],
   "source": [
    "# set optimizer\n",
    "m = Model(Cbc.Optimizer)\n",
    "\n",
    "# define variables\n",
    "#on rend les variables des entiers, puisque il s'agit du nombre de produit et non la quantité du fluide\n",
    "@variable(m, x[1:N, 1:M, 1:F] >= 0,Int)\n",
    "\n",
    "# define objective function\n",
    "#@objective(m, Min, sum(x[i,j]*C[j,i] for i in 1:N, j=1:M))\n",
    "@objective(m, Min, sum(sum(x[i,j,k])*C[j,i] for i in 1:N, j=1:M, k =1:F))\n",
    "\n",
    "#define constraints\n",
    "#les quantités en stock doivent être supérieurs au quantités livrées\n",
    "for i=1:N, j=1:M\n",
    "     @constraint(m, sum(x[i,j,:])<=B[j,i])\n",
    "end\n",
    "\n",
    "#Contrainte concernant les demandes\n",
    "for i in 1:N, k = 1:F\n",
    "    @constraint(m,sum(x[i,j,k] for j in 1:M) == D[k,i])\n",
    "end\n",
    "#run optimization\n",
    "optimize!(m)\n"
   ]
  },
  {
   "cell_type": "code",
   "execution_count": 14,
   "metadata": {},
   "outputs": [
    {
     "name": "stdout",
     "output_type": "stream",
     "text": [
      "dépense minimale pour le gestionnaire des magazins = 10.0 \n",
      "\t quantite de fluide 1 par magazin 1 par client 1 = 1.0\n",
      "\t quantite de fluide 1 par magazin 1 par client 2 = 1.0\n",
      "\t quantite de fluide 1 par magazin 2 par client 1 = 1.0\n",
      "\t quantite de fluide 1 par magazin 2 par client 2 = 0.0\n",
      "\t quantite de fluide 1 par magazin 3 par client 1 = 0.0\n",
      "\t quantite de fluide 1 par magazin 3 par client 2 = 0.0\n",
      "\t quantite de fluide 2 par magazin 1 par client 1 = 0.0\n",
      "\t quantite de fluide 2 par magazin 1 par client 2 = 1.0\n",
      "\t quantite de fluide 2 par magazin 2 par client 1 = 0.0\n",
      "\t quantite de fluide 2 par magazin 2 par client 2 = 1.0\n",
      "\t quantite de fluide 2 par magazin 3 par client 1 = 0.0\n",
      "\t quantite de fluide 2 par magazin 3 par client 2 = 1.0\n"
     ]
    }
   ],
   "source": [
    "#Affichage\n",
    "\n",
    "println(\"dépense minimale pour le gestionnaire des magazins = $(objective_value(m)) \")\n",
    "\n",
    "for i in 1:N, j=1:M, k=1:F\n",
    "    println(\"\\t quantite de fluide $i par magazin $j par client $k = \",getvalue(x[i,j,k]))\n",
    "      \n",
    "end"
   ]
  }
 ],
 "metadata": {
  "kernelspec": {
   "display_name": "Julia 1.5.2",
   "language": "julia",
   "name": "julia-1.5"
  },
  "language_info": {
   "file_extension": ".jl",
   "mimetype": "application/julia",
   "name": "julia",
   "version": "1.5.2"
  }
 },
 "nbformat": 4,
 "nbformat_minor": 4
}
