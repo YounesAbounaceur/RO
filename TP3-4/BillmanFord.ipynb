{
 "cells": [
  {
   "cell_type": "code",
   "execution_count": 49,
   "metadata": {},
   "outputs": [],
   "source": [
    "using OffsetArrays"
   ]
  },
  {
   "cell_type": "code",
   "execution_count": null,
   "metadata": {},
   "outputs": [],
   "source": []
  },
  {
   "cell_type": "code",
   "execution_count": 204,
   "metadata": {},
   "outputs": [
    {
     "data": {
      "text/plain": [
       "BellmanFord (generic function with 1 method)"
      ]
     },
     "execution_count": 204,
     "metadata": {},
     "output_type": "execute_result"
    }
   ],
   "source": [
    "# Python3 program for Bellman-Ford's  \n",
    "# single source shortest path algorithm. \n",
    "\n",
    "  \n",
    "# The main function that finds shortest \n",
    "# distances from src to all other vertices \n",
    "# using Bellman-Ford algorithm. The function \n",
    "# also detects negative weight cycle \n",
    "# The row graph[i] represents i-th edge with \n",
    "# three values u, v and w. \n",
    "function BellmanFord(graph, V, E, src)\n",
    "  \n",
    "    # Initialize distance of all vertices as infinite. \n",
    "    #dis = [maxsize] * V \n",
    "    \n",
    "    dis = OffsetArray{Float64}(undef, 0:V-1)\n",
    "    for i in 0:V-1\n",
    "        \n",
    "        dis[i] = Inf\n",
    "    end\n",
    "        \n",
    "    \n",
    "    \n",
    "  \n",
    "    # initialize distance of source as 0 \n",
    "    dis[src] = 0\n",
    "    \n",
    "    # Relax all edges |V| - 1 times. A simple \n",
    "    # shortest path from src to any other \n",
    "    # vertex can have at-most |V| - 1 edges \n",
    "    for i in 0:V-2\n",
    "        for j in 0:E-1\n",
    "            if dis[graph[j][1]] + graph[j][3] < dis[graph[j][2]]\n",
    "                #println(\"\\t\",i,\"\\t\",j)\n",
    "                #if dis[graph[j,0]] + graph[j,2] < dis[graph[j,1]]   \n",
    "                dis[graph[j][2]] = dis[graph[j][1]] + graph[j][3]\n",
    "                #dis[graph[j,1]] = dis[graph[j,0]] + graph[j,2]\n",
    "            end\n",
    "        end\n",
    "    end\n",
    "    \n",
    "    # check for negative-weight cycles. \n",
    "    # The above step guarantees shortest \n",
    "    # distances if graph doesn't contain \n",
    "    # negative weight cycle. If we get a \n",
    "    # shorter path, then there is a cycle. \n",
    "    for i in 0:E-1\n",
    "        x = graph[i][1] \n",
    "        y = graph[i][2] \n",
    "        weight = graph[i][3] \n",
    "        if dis[x] != Inf && dis[x] + weight < dis[y]\n",
    "                \n",
    "            print(\"Graph contains negative weight cycle\") \n",
    "        end\n",
    "    end\n",
    "            \n",
    "    \n",
    "  \n",
    "    print(\"Vertex Distance from Source\\n\") \n",
    "    for i in 0:V-1\n",
    "        #print(\"\\t\\t%d\" % (i, dis[i]))\n",
    "        \n",
    "        println(\"\\t\",i,\"\\t\",dis[i])\n",
    "    end\n",
    "end\n",
    "        \n",
    "    \n",
    "    \n",
    "    \n",
    "                        \n",
    "                        \n"
   ]
  },
  {
   "cell_type": "code",
   "execution_count": 205,
   "metadata": {},
   "outputs": [
    {
     "data": {
      "text/plain": [
       "8-element Array{Array{Int64,1},1}:\n",
       " [0, 1, -1]\n",
       " [0, 2, 4]\n",
       " [1, 2, 3]\n",
       " [1, 3, 2]\n",
       " [1, 4, 2]\n",
       " [3, 2, 5]\n",
       " [3, 1, 1]\n",
       " [4, 3, -3]"
      ]
     },
     "execution_count": 205,
     "metadata": {},
     "output_type": "execute_result"
    }
   ],
   "source": [
    "V = 5 # Number of vertices in graph \n",
    "E = 8 # Number of edges in graph \n",
    "  \n",
    "    # Every edge has three values (u, v, w) where \n",
    "    # the edge is from vertex u to v. And weight \n",
    "    # of the edge is w. \n",
    "g = [[0, 1, -1], [0, 2, 4], [1, 2, 3],[1, 3, 2], [1, 4, 2], [3, 2, 5], [3, 1, 1], [4, 3, -3]] \n"
   ]
  },
  {
   "cell_type": "code",
   "execution_count": 206,
   "metadata": {},
   "outputs": [
    {
     "name": "stdout",
     "output_type": "stream",
     "text": [
      "1\n"
     ]
    }
   ],
   "source": [
    "println(g[7][3])"
   ]
  },
  {
   "cell_type": "code",
   "execution_count": 207,
   "metadata": {},
   "outputs": [
    {
     "data": {
      "text/plain": [
       "OffsetArray{Array{Int64,1},1,Array{Array{Int64,1},1}}"
      ]
     },
     "execution_count": 207,
     "metadata": {},
     "output_type": "execute_result"
    }
   ],
   "source": [
    "graph = OffsetArray{Array{Int64,1}}(undef, 0:E-1)\n",
    "typeof(graph)\n",
    "\n",
    "\n",
    "#BellmanFord(graph, V, E, 0)"
   ]
  },
  {
   "cell_type": "code",
   "execution_count": 208,
   "metadata": {},
   "outputs": [],
   "source": [
    "for i in 0:E-1\n",
    "    graph[i] = g[i+1]\n",
    "    #graph[i][1] = g[i+1][2]\n",
    "    #graph[i][2] = g[i+1][3]\n",
    "    \n",
    "end\n"
   ]
  },
  {
   "cell_type": "code",
   "execution_count": 209,
   "metadata": {},
   "outputs": [
    {
     "name": "stdout",
     "output_type": "stream",
     "text": [
      "[[0, 1, -1], [0, 2, 4], [1, 2, 3], [1, 3, 2], [1, 4, 2], [3, 2, 5], [3, 1, 1], [4, 3, -3]]\n"
     ]
    }
   ],
   "source": [
    "println(graph)"
   ]
  },
  {
   "cell_type": "code",
   "execution_count": 210,
   "metadata": {},
   "outputs": [
    {
     "name": "stdout",
     "output_type": "stream",
     "text": [
      "Vertex Distance from Source\n",
      "\t0\t0.0\n",
      "\t1\t-1.0\n",
      "\t2\t2.0\n",
      "\t3\t-2.0\n",
      "\t4\t1.0\n"
     ]
    }
   ],
   "source": [
    "BellmanFord(graph, V, E, 0)"
   ]
  },
  {
   "cell_type": "code",
   "execution_count": null,
   "metadata": {},
   "outputs": [],
   "source": []
  }
 ],
 "metadata": {
  "kernelspec": {
   "display_name": "Julia 1.5.2",
   "language": "julia",
   "name": "julia-1.5"
  },
  "language_info": {
   "file_extension": ".jl",
   "mimetype": "application/julia",
   "name": "julia",
   "version": "1.5.2"
  }
 },
 "nbformat": 4,
 "nbformat_minor": 4
}
