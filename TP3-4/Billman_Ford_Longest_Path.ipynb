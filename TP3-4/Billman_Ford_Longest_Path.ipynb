{
 "cells": [
  {
   "cell_type": "code",
   "execution_count": 1,
   "metadata": {},
   "outputs": [],
   "source": [
    "using OffsetArrays"
   ]
  },
  {
   "cell_type": "code",
   "execution_count": 63,
   "metadata": {},
   "outputs": [
    {
     "data": {
      "text/plain": [
       "BellmanFord (generic function with 1 method)"
      ]
     },
     "execution_count": 63,
     "metadata": {},
     "output_type": "execute_result"
    }
   ],
   "source": [
    "# Methode de Bellman_Ford avec Julia\n",
    "# Algorithme de long cours chemin \n",
    "\n",
    "  \n",
    "#en utilisant l'Algo de Bellman notre fonction détecte les cycles positifs\n",
    "\n",
    "function BellmanFord(graph, V, E, src)\n",
    "  \n",
    "    # Initialiser les distances avec la valeur infinie \n",
    "    dis = OffsetArray{Float64}(undef, 0:V-1)\n",
    "    for i in 0:V-1\n",
    "        \n",
    "        dis[i] = -Inf\n",
    "    end\n",
    "        \n",
    "    \n",
    "    \n",
    "  \n",
    "    # initialiser la distance de la source en 0 \n",
    "    dis[src] = 0\n",
    "    \n",
    "    #Mise à jour de la valeur des distances en suivant la méthode de Bellman Ford\n",
    "    # d[v]=max(d[v], d[u] + w(u,v))\n",
    "    for i in 0:V-2\n",
    "        for j in 0:E-1\n",
    "            if dis[graph[j][1]] + graph[j][3] > dis[graph[j][2]]\n",
    "                dis[graph[j][2]] = dis[graph[j][1]] + graph[j][3]\n",
    "            end\n",
    "        end\n",
    "    end\n",
    "    \n",
    "    \n",
    "                            \n",
    "    # cherche les cycles\n",
    "    for i in 0:E-1                   \n",
    "        x = graph[i][1] \n",
    "        y = graph[i][2] \n",
    "        weight = graph[i][3] \n",
    "        if dis[x] != -Inf && dis[x] + weight > dis[y]\n",
    "                \n",
    "            println(\"Le graphe se bloque dans un cycle\") \n",
    "            return\n",
    "        end\n",
    "    end\n",
    "            \n",
    "    \n",
    "    println(\"Algo de Bellmand Ford de plus long chemin\")\n",
    "    println(\"Distance du sommet de la source\") \n",
    "    println(\"  noeud   distance\")\n",
    "    for i in 0:V-1\n",
    "        #print(\"\\t\\t%d\" % (i, dis[i]))\n",
    "        \n",
    "        println(\"\\t\",i,\"\\t\",dis[i])\n",
    "    end\n",
    "end\n",
    "        \n",
    "    \n",
    "    \n",
    "    \n",
    "                        \n",
    "                        \n"
   ]
  },
  {
   "cell_type": "code",
   "execution_count": 86,
   "metadata": {},
   "outputs": [
    {
     "data": {
      "text/plain": [
       "5"
      ]
     },
     "execution_count": 86,
     "metadata": {},
     "output_type": "execute_result"
    }
   ],
   "source": [
    "V = 4 # Nombre de noeuds dans le graphe \n",
    "\n",
    "  \n",
    "# Chaque arête a trois valeurs (u, v, w) où\n",
    "# l'arête est du sommet u au v. Et le poids\n",
    "# du bord est w.\n",
    "g = [[0, 1, -3], [0, 2, 1], [1, 2, 8],[1, 3, -2], [2, 3, 1]]\n",
    "E = length(g)"
   ]
  },
  {
   "cell_type": "code",
   "execution_count": 87,
   "metadata": {},
   "outputs": [
    {
     "data": {
      "text/plain": [
       "5"
      ]
     },
     "execution_count": 87,
     "metadata": {},
     "output_type": "execute_result"
    }
   ],
   "source": [
    "x= length(g)"
   ]
  },
  {
   "cell_type": "code",
   "execution_count": 88,
   "metadata": {},
   "outputs": [
    {
     "data": {
      "text/plain": [
       "OffsetArray{Array{Int64,1},1,Array{Array{Int64,1},1}}"
      ]
     },
     "execution_count": 88,
     "metadata": {},
     "output_type": "execute_result"
    }
   ],
   "source": [
    "#créer un graphe qui commence par l'indice 0, pour cette raison nous utilisons OffsetArray de Julia\n",
    "graph = OffsetArray{Array{Int64,1}}(undef, 0:E-1)\n",
    "typeof(graph)\n"
   ]
  },
  {
   "cell_type": "code",
   "execution_count": 89,
   "metadata": {},
   "outputs": [],
   "source": [
    "#passer les valeurs du g qui commence par l'indice 1 à graph qui commence par l'indice 0.\n",
    "for i in 0:E-1\n",
    "    graph[i] = g[i+1]\n",
    "    #graph[i][1] = g[i+1][2]\n",
    "    #graph[i][2] = g[i+1][3]\n",
    "    \n",
    "end\n"
   ]
  },
  {
   "cell_type": "code",
   "execution_count": 90,
   "metadata": {},
   "outputs": [
    {
     "name": "stdout",
     "output_type": "stream",
     "text": [
      "Algo de Bellmand Ford de plus long chemin\n",
      "Distance du sommet de la source\n",
      "  noeud   distance\n",
      "\t0\t0.0\n",
      "\t1\t-3.0\n",
      "\t2\t5.0\n",
      "\t3\t6.0\n"
     ]
    }
   ],
   "source": [
    "BellmanFord(graph, V, E, 0)"
   ]
  },
  {
   "cell_type": "code",
   "execution_count": null,
   "metadata": {},
   "outputs": [],
   "source": []
  },
  {
   "cell_type": "code",
   "execution_count": null,
   "metadata": {},
   "outputs": [],
   "source": []
  }
 ],
 "metadata": {
  "kernelspec": {
   "display_name": "Julia 1.5.2",
   "language": "julia",
   "name": "julia-1.5"
  },
  "language_info": {
   "file_extension": ".jl",
   "mimetype": "application/julia",
   "name": "julia",
   "version": "1.5.2"
  }
 },
 "nbformat": 4,
 "nbformat_minor": 4
}
