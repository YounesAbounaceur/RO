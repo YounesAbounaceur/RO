{
 "cells": [
  {
   "cell_type": "code",
   "execution_count": 4,
   "metadata": {},
   "outputs": [],
   "source": [
    "using OffsetArrays"
   ]
  },
  {
   "cell_type": "code",
   "execution_count": 17,
   "metadata": {},
   "outputs": [
    {
     "data": {
      "text/plain": [
       "BellmanFord (generic function with 1 method)"
      ]
     },
     "execution_count": 17,
     "metadata": {},
     "output_type": "execute_result"
    }
   ],
   "source": [
    "# Methode de Bellman_Ford avec Julia\n",
    "# Algorithme de plus cours chemin \n",
    "\n",
    "  \n",
    "#en utilisant l'Algo de Bellman notre fonction détecte les cycles négatifs\n",
    "# also detects negative weight cycle \n",
    "function BellmanFord(graph, V, E, src)\n",
    "  \n",
    "    # Initialiser les distances avec la valeur infinie \n",
    "    dis = OffsetArray{Float64}(undef, 0:V-1)\n",
    "    for i in 0:V-1\n",
    "        \n",
    "        dis[i] = Inf\n",
    "    end\n",
    "        \n",
    "    \n",
    "    \n",
    "  \n",
    "    # initialiser la distance de la source en 0 \n",
    "    dis[src] = 0\n",
    "    \n",
    "    #Mise à jour de la valeur des distances en suivant la méthode de Bellman Ford\n",
    "    # d[v]=min(d[v], d[u] + w(u,v))\n",
    "    for i in 0:V-2\n",
    "        for j in 0:E-1\n",
    "            if dis[graph[j][1]] + graph[j][3] < dis[graph[j][2]]\n",
    "                dis[graph[j][2]] = dis[graph[j][1]] + graph[j][3]\n",
    "            end\n",
    "        end\n",
    "    end\n",
    "    \n",
    "    # cherche les cycles négatifs \n",
    "    for i in 0:E-1\n",
    "        x = graph[i][1] \n",
    "        y = graph[i][2] \n",
    "        weight = graph[i][3] \n",
    "        if dis[x] != Inf && dis[x] + weight < dis[y]\n",
    "                \n",
    "            println(\"Le graphe contient un cycle négatif\") \n",
    "            exit()\n",
    "        end\n",
    "    end\n",
    "            \n",
    "    \n",
    "    println(\"Algo de Bellmand Ford de plus court chemin\")\n",
    "    println(\"Distance du sommet de la source\") \n",
    "    println(\"  noeud   distance\")\n",
    "    for i in 0:V-1\n",
    "        #print(\"\\t\\t%d\" % (i, dis[i]))\n",
    "        if i == 0\n",
    "         println(\"\\t\",'P',\"\\t\",dis[i])   \n",
    "        else\n",
    "            println(\"\\t\",i,\"\\t\",dis[i])\n",
    "        end\n",
    "        \n",
    "        \n",
    "    end\n",
    "end\n",
    "        \n",
    "    \n",
    "    \n",
    "    \n",
    "                        \n",
    "                        \n"
   ]
  },
  {
   "cell_type": "code",
   "execution_count": 18,
   "metadata": {},
   "outputs": [
    {
     "data": {
      "text/plain": [
       "20"
      ]
     },
     "execution_count": 18,
     "metadata": {},
     "output_type": "execute_result"
    }
   ],
   "source": [
    "V = 7 # Nombre de sommets dans le graphe \n",
    "\n",
    "  \n",
    "# Chaque arête a trois valeurs (u, v, w) où\n",
    "# l'arête est du sommet u au v. Et le poids\n",
    "# du bord est w.\n",
    "g = [[0, 1, 5], [0, 4, 1], [0, 6, 3],[1, 0, 5], [1, 2, 4], [2, 1, 4], [2, 3, 1], [2, 4, 2], [2,5,2],[3,2,1],[3,5,2],[4,0,1],[4,2,2],[4,5,3],[4,6,5],[5,2,2],[5,3,2],[5,4,3],[6,0,3],[6,4,5]] \n",
    "E = length(g)"
   ]
  },
  {
   "cell_type": "code",
   "execution_count": 19,
   "metadata": {},
   "outputs": [
    {
     "data": {
      "text/plain": [
       "OffsetArray{Array{Int64,1},1,Array{Array{Int64,1},1}}"
      ]
     },
     "execution_count": 19,
     "metadata": {},
     "output_type": "execute_result"
    }
   ],
   "source": [
    "#créer un graphe qui commence par l'indice 0, pour cette raison nous utilisons OffsetArray de Julia\n",
    "graph = OffsetArray{Array{Int64,1}}(undef, 0:E-1)\n",
    "typeof(graph)\n"
   ]
  },
  {
   "cell_type": "code",
   "execution_count": 20,
   "metadata": {},
   "outputs": [],
   "source": [
    "#passer les valeurs du g qui commence par l'indice 1 à graph qui commence par l'indice 0.\n",
    "for i in 0:E-1\n",
    "    graph[i] = g[i+1]\n",
    "    #graph[i][1] = g[i+1][2]\n",
    "    #graph[i][2] = g[i+1][3]\n",
    "    \n",
    "end\n"
   ]
  },
  {
   "cell_type": "code",
   "execution_count": 21,
   "metadata": {},
   "outputs": [
    {
     "name": "stdout",
     "output_type": "stream",
     "text": [
      "Algo de Bellmand Ford de plus court chemin\n",
      "Distance du sommet de la source\n",
      "  noeud   distance\n",
      "\tP\t0.0\n",
      "\t1\t5.0\n",
      "\t2\t3.0\n",
      "\t3\t4.0\n",
      "\t4\t1.0\n",
      "\t5\t4.0\n",
      "\t6\t3.0\n"
     ]
    }
   ],
   "source": [
    "BellmanFord(graph, V, E, 0)"
   ]
  },
  {
   "cell_type": "code",
   "execution_count": null,
   "metadata": {},
   "outputs": [],
   "source": []
  }
 ],
 "metadata": {
  "kernelspec": {
   "display_name": "Julia 1.5.2",
   "language": "julia",
   "name": "julia-1.5"
  },
  "language_info": {
   "file_extension": ".jl",
   "mimetype": "application/julia",
   "name": "julia",
   "version": "1.5.2"
  }
 },
 "nbformat": 4,
 "nbformat_minor": 4
}
