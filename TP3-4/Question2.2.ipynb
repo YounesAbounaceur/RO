{
 "cells": [
  {
   "cell_type": "code",
   "execution_count": 17,
   "metadata": {},
   "outputs": [],
   "source": [
    "using OffsetArrays"
   ]
  },
  {
   "cell_type": "code",
   "execution_count": 84,
   "metadata": {},
   "outputs": [
    {
     "data": {
      "text/plain": [
       "BellmanFord (generic function with 1 method)"
      ]
     },
     "execution_count": 84,
     "metadata": {},
     "output_type": "execute_result"
    }
   ],
   "source": [
    "# Methode de Bellman_Ford avec Julia\n",
    "# Algorithme de long cours chemin \n",
    "\n",
    "  \n",
    "#en utilisant l'Algo de Bellman notre fonction détecte les cycles positifs\n",
    "\n",
    "function BellmanFord(graph, V, E, src)\n",
    "  \n",
    "    # Initialiser les distances avec la valeur infinie \n",
    "    dis = OffsetArray{Float64}(undef, 0:V-1)\n",
    "    for i in 0:V-1\n",
    "        \n",
    "        dis[i] = -Inf\n",
    "    end\n",
    "        \n",
    "    \n",
    "    \n",
    "  \n",
    "    # initialiser la distance de la source en 0 \n",
    "    dis[src] = 0\n",
    "    \n",
    "    #Mise à jour de la valeur des distances en suivant la méthode de Bellman Ford\n",
    "    # d[v]=max(d[v], d[u] + w(u,v))\n",
    "    for i in 0:V-2\n",
    "        for j in 0:E-1\n",
    "            #println(dis[Int(graph[j][1])] ,\" \",dis[Int(graph[j][2])])\n",
    "            if dis[Int(graph[j][1])] + graph[j][3] > dis[Int(graph[j][2])]\n",
    "                dis[Int(graph[j][2])] = dis[Int(graph[j][1])] + graph[j][3]\n",
    "\n",
    "            end\n",
    "        end\n",
    "    end\n",
    "    \n",
    "    \n",
    "                            \n",
    "    # cherche les cycles\n",
    "    for i in 0:E-1                   \n",
    "        x = graph[i][1] \n",
    "        y = graph[i][2] \n",
    "        weight = graph[i][3] \n",
    "        if dis[Int(x)] != -Inf && dis[Int(x)] + weight > dis[Int(y)]\n",
    "                \n",
    "            println(\"Le graphe se bloque dans un cycle\") \n",
    "            return\n",
    "        end\n",
    "    end\n",
    "            \n",
    "    \n",
    "    println(\"Algo de Bellmand Ford de plus long chemin\")\n",
    "    println(\"Distance du sommet de la source\") \n",
    "    println(\"  noeud   distance\")\n",
    "    for i in 0:V-1\n",
    "        #print(\"\\t\\t%d\" % (i, dis[i]))\n",
    "        if i == 0\n",
    "            println(\"  S       \",dis[Int(i)])\n",
    "        elseif i == 1\n",
    "            println(\"  S1      \",dis[Int(i)])\n",
    "        elseif i == 2\n",
    "            println(\"  S2      \",dis[Int(i)])\n",
    "        elseif i == 3\n",
    "            println(\"  S3      \",dis[Int(i)])\n",
    "        elseif i == 4\n",
    "            println(\"  A1      \",dis[Int(i)])\n",
    "        elseif i == 5\n",
    "            println(\"  A2      \",dis[Int(i)])\n",
    "        elseif i == 6\n",
    "            println(\"  A3      \",dis[Int(i)])\n",
    "        elseif i == 7\n",
    "            println(\"  A4      \",dis[Int(i)])\n",
    "        elseif i == 8\n",
    "            println(\"  D1      \",dis[Int(i)])\n",
    "        elseif i == 9\n",
    "            println(\"  D2      \",dis[Int(i)])\n",
    "        elseif i == 10\n",
    "            println(\"  FG      \",dis[Int(i)])\n",
    "        elseif i == 11\n",
    "            println(\"  FX      \",dis[Int(i)])\n",
    "        elseif i == 12\n",
    "            println(\"  P       \",dis[Int(i)])\n",
    "\n",
    "        end\n",
    "            \n",
    "        \n",
    "    end\n",
    "end\n",
    "        \n",
    "    \n",
    "    \n",
    "    \n",
    "                        \n",
    "                        \n"
   ]
  },
  {
   "cell_type": "code",
   "execution_count": 85,
   "metadata": {},
   "outputs": [
    {
     "data": {
      "text/plain": [
       "20"
      ]
     },
     "execution_count": 85,
     "metadata": {},
     "output_type": "execute_result"
    }
   ],
   "source": [
    "V = 13 # Nombre de noeuds dans le graphe \n",
    "\n",
    "  \n",
    "# Chaque arête a trois valeurs (u, v, w) où\n",
    "# l'arête est du sommet u au v. Et le poids\n",
    "# du bord est w.\n",
    "g = [[0,1,0.98],[0,2,0.97],[0,3,0.99],\n",
    "    [1,4,0.96],[1,5,0.95],[2,5,0.97],\n",
    "    [2,6,0.98],[3,6,0.95],[3,7,0.93],[4,8,0.99],[5,8,0.96],[6,8,0.97],[6,9,0.98],[7,9,0.99],\n",
    "    [8,10,0.98],[8,11,0.99],[9,10,0.96],[9,11,0.99],\n",
    "    [10,12,0.99],[11,12,0.93]]\n",
    "E = length(g)\n"
   ]
  },
  {
   "cell_type": "code",
   "execution_count": 86,
   "metadata": {},
   "outputs": [
    {
     "data": {
      "text/plain": [
       "OffsetArray{Array{Float64,1},1,Array{Array{Float64,1},1}}"
      ]
     },
     "execution_count": 86,
     "metadata": {},
     "output_type": "execute_result"
    }
   ],
   "source": [
    "#créer un graphe qui commence par l'indice 0, pour cette raison nous utilisons OffsetArray de Julia\n",
    "graph = OffsetArray{Array{Float64,1}}(undef, 0:E-1)\n",
    "typeof(graph)\n"
   ]
  },
  {
   "cell_type": "code",
   "execution_count": 87,
   "metadata": {},
   "outputs": [],
   "source": [
    "#passer les valeurs du g qui commence par l'indice 1 à graph qui commence par l'indice 0.\n",
    "for i in 0:E-1\n",
    "    graph[i] = g[i+1]\n",
    "end\n"
   ]
  },
  {
   "cell_type": "code",
   "execution_count": 88,
   "metadata": {},
   "outputs": [
    {
     "name": "stdout",
     "output_type": "stream",
     "text": [
      "Algo de Bellmand Ford de plus long chemin\n",
      "Distance du sommet de la source\n",
      "  noeud   distance\n",
      "  S       0.0\n",
      "  S1      0.98\n",
      "  S2      0.97\n",
      "  S3      0.99\n",
      "  A1      1.94\n",
      "  A2      1.94\n",
      "  A3      1.95\n",
      "  A4      1.92\n",
      "  D1      2.9299999999999997\n",
      "  D2      2.9299999999999997\n",
      "  FG      3.9099999999999997\n",
      "  FX      3.92\n",
      "  P       4.8999999999999995\n"
     ]
    }
   ],
   "source": [
    "BellmanFord(graph, V, E, 0)"
   ]
  },
  {
   "cell_type": "code",
   "execution_count": null,
   "metadata": {},
   "outputs": [],
   "source": []
  },
  {
   "cell_type": "code",
   "execution_count": null,
   "metadata": {},
   "outputs": [],
   "source": []
  },
  {
   "cell_type": "code",
   "execution_count": null,
   "metadata": {},
   "outputs": [],
   "source": []
  }
 ],
 "metadata": {
  "kernelspec": {
   "display_name": "Julia 1.5.2",
   "language": "julia",
   "name": "julia-1.5"
  },
  "language_info": {
   "file_extension": ".jl",
   "mimetype": "application/julia",
   "name": "julia",
   "version": "1.5.2"
  }
 },
 "nbformat": 4,
 "nbformat_minor": 4
}
