{
 "cells": [
  {
   "cell_type": "markdown",
   "metadata": {},
   "source": [
    "# Question 2.1 Relaxation des contraintes de ressources avec un graphe"
   ]
  },
  {
   "cell_type": "code",
   "execution_count": 1,
   "metadata": {},
   "outputs": [],
   "source": [
    "\n",
    "#Question_1.2\n",
    "using OffsetArrays"
   ]
  },
  {
   "cell_type": "code",
   "execution_count": 2,
   "metadata": {},
   "outputs": [
    {
     "data": {
      "text/plain": [
       "Affichage (generic function with 1 method)"
      ]
     },
     "execution_count": 2,
     "metadata": {},
     "output_type": "execute_result"
    }
   ],
   "source": [
    "#fonction d'affichage adaptable selon le problème\n",
    "function Affichage(dis,V)\n",
    "    println(\"  noeud   distance\")\n",
    "    \n",
    "    for i in 0:V-1\n",
    "        #print(\"\\t\\t%d\" % (i, dis[i]))\n",
    "        if i == 0\n",
    "            println(\"  debut      \",dis[Int(i)])\n",
    "        elseif i == 1\n",
    "            println(\"  t1.1       \",dis[Int(i)])\n",
    "        elseif i == 2\n",
    "            println(\"  t2.1       \",dis[Int(i)])\n",
    "        elseif i == 3\n",
    "            println(\"  t1.2       \",dis[Int(i)])\n",
    "        elseif i == 4\n",
    "            println(\"  t2.2       \",dis[Int(i)])\n",
    "        elseif i == 5\n",
    "            println(\"  t2.3       \",dis[Int(i)])\n",
    "        elseif i == 6\n",
    "            println(\"  fin        \",dis[Int(i)])\n",
    "\n",
    "        end\n",
    "            \n",
    "        \n",
    "    end\n",
    "end"
   ]
  },
  {
   "cell_type": "code",
   "execution_count": 3,
   "metadata": {},
   "outputs": [
    {
     "data": {
      "text/plain": [
       "BellmanFord (generic function with 1 method)"
      ]
     },
     "execution_count": 3,
     "metadata": {},
     "output_type": "execute_result"
    }
   ],
   "source": [
    "# Methode de Bellman_Ford avec Julia\n",
    "# Algorithme de long cours chemin \n",
    "\n",
    "  \n",
    "#en utilisant l'Algo de Bellman notre fonction détecte les cycles positifs\n",
    "\n",
    "function BellmanFord(graph, V, E, src)\n",
    "  \n",
    "    # Initialiser les distances avec la valeur infinie \n",
    "    dis = OffsetArray{Float64}(undef, 0:V-1)\n",
    "    for i in 0:V-1\n",
    "        \n",
    "        dis[i] = -Inf\n",
    "    end\n",
    "        \n",
    "    \n",
    "    \n",
    "  \n",
    "    # initialiser la distance de la source en 0 \n",
    "    dis[src] = 0\n",
    "    \n",
    "    #Mise à jour de la valeur des distances en suivant la méthode de Bellman Ford\n",
    "    # d[v]=max(d[v], d[u] + w(u,v))\n",
    "    for i in 0:V-2\n",
    "        for j in 0:E-1\n",
    "            if dis[graph[j][1]] + graph[j][3] > dis[graph[j][2]]\n",
    "                dis[graph[j][2]] = dis[graph[j][1]] + graph[j][3]\n",
    "            end\n",
    "        end\n",
    "    end\n",
    "    \n",
    "    \n",
    "                            \n",
    "    # cherche les cycles\n",
    "    for i in 0:E-1                   \n",
    "        x = graph[i][1] \n",
    "        y = graph[i][2] \n",
    "        weight = graph[i][3] \n",
    "        if dis[x] != -Inf && dis[x] + weight > dis[y]\n",
    "                \n",
    "            println(\"Le graphe se bloque dans un cycle\") \n",
    "            return\n",
    "        end\n",
    "    end\n",
    "            \n",
    "    Affichage(dis,V)\n",
    "    \n",
    "\n",
    "end\n",
    "        \n",
    "    \n",
    "    \n",
    "    \n",
    "                        \n",
    "                        \n"
   ]
  },
  {
   "cell_type": "code",
   "execution_count": 4,
   "metadata": {},
   "outputs": [
    {
     "data": {
      "text/plain": [
       "7"
      ]
     },
     "execution_count": 4,
     "metadata": {},
     "output_type": "execute_result"
    }
   ],
   "source": [
    "V = 7 # Nombre de noeuds dans le graphe \n",
    "\n",
    "  \n",
    "# Chaque arête a trois valeurs (u, v, w) où\n",
    "# l'arête est du sommet u au v. Et le poids\n",
    "# du bord est w.\n",
    "#voiçi notre graphe\n",
    "g = [[0, 1, 0], [0, 2, 0], [1, 3, 6],[3, 6, 7], [2, 4, 3],[4,5,5],[5,6,1]]\n",
    "E = length(g)#nombre d'arcs"
   ]
  },
  {
   "cell_type": "code",
   "execution_count": null,
   "metadata": {},
   "outputs": [],
   "source": [
    "\n"
   ]
  },
  {
   "cell_type": "code",
   "execution_count": null,
   "metadata": {},
   "outputs": [],
   "source": [
    "\n"
   ]
  },
  {
   "cell_type": "code",
   "execution_count": null,
   "metadata": {},
   "outputs": [],
   "source": []
  },
  {
   "cell_type": "code",
   "execution_count": 6,
   "metadata": {},
   "outputs": [
    {
     "data": {
      "text/plain": [
       "ResolutionParGraphes (generic function with 1 method)"
      ]
     },
     "execution_count": 6,
     "metadata": {},
     "output_type": "execute_result"
    }
   ],
   "source": [
    "function ResolutionParGraphes(g,V,E)\n",
    "    graph = OffsetArray{Array{Int64,1}}(undef, 0:E-1)\n",
    "    #passer les valeurs du g qui commence par l'indice 1 à graph qui commence par l'indice 0.\n",
    "    for i in 0:E-1\n",
    "        graph[i] = g[i+1]\n",
    "    end\n",
    "    BellmanFord(graph, V, E, 0)\n",
    "end\n",
    "    "
   ]
  },
  {
   "cell_type": "code",
   "execution_count": 7,
   "metadata": {},
   "outputs": [
    {
     "name": "stdout",
     "output_type": "stream",
     "text": [
      "  noeud   distance\n",
      "  debut      0.0\n",
      "  t1.1       0.0\n",
      "  t2.1       0.0\n",
      "  t1.2       6.0\n",
      "  t2.2       3.0\n",
      "  t2.3       8.0\n",
      "  fin        13.0\n"
     ]
    }
   ],
   "source": [
    "ResolutionParGraphes(g,V,E)"
   ]
  },
  {
   "cell_type": "code",
   "execution_count": null,
   "metadata": {},
   "outputs": [],
   "source": []
  }
 ],
 "metadata": {
  "kernelspec": {
   "display_name": "Julia 1.5.2",
   "language": "julia",
   "name": "julia-1.5"
  },
  "language_info": {
   "file_extension": ".jl",
   "mimetype": "application/julia",
   "name": "julia",
   "version": "1.5.2"
  }
 },
 "nbformat": 4,
 "nbformat_minor": 4
}
